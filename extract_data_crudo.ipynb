{
 "cells": [
  {
   "cell_type": "code",
   "execution_count": 31,
   "metadata": {},
   "outputs": [],
   "source": [
    "import itertools\n",
    "from itertools import chain\n",
    "\n",
    "\n",
    "import openpyxl\n",
    "import pandas as pd\n",
    "import numpy as np"
   ]
  },
  {
   "cell_type": "markdown",
   "metadata": {},
   "source": [
    "Antes que nada, se debe pasar de la extension .xls a .xlsx (Excel Workbook) y eliminar las viñetas que no correspondan a los días de reporte."
   ]
  },
  {
   "cell_type": "code",
   "execution_count": 32,
   "metadata": {},
   "outputs": [],
   "source": [
    "wb = openpyxl.load_workbook(filename = '/Users/josealbertomurcia/Documents/Reportes Lab/11. REPORTE DE TRATADORES Y TANQUES 2023 NOVIEMBRE.xlsx')\n",
    "\n",
    "sheets = wb.sheetnames"
   ]
  },
  {
   "cell_type": "markdown",
   "metadata": {},
   "source": [
    "A continuacion Realizamos la extraccion de data de los tanques"
   ]
  },
  {
   "cell_type": "code",
   "execution_count": 33,
   "metadata": {},
   "outputs": [
    {
     "name": "stdout",
     "output_type": "stream",
     "text": [
      "    dia  AET-7471  AET-7472  AET-7473  AET-7474  AET-7475  AET-7476  TK-02B  \\\n",
      "0     1  0.837500  0.614286  0.614286  0.662500    0.8500    0.8250   3.825   \n",
      "1     2  0.587500  0.500000  0.587500  0.750000    0.7125    0.7500   4.650   \n",
      "2     3  0.642857  0.587500  0.637500  0.675000    0.6625    0.7125   8.000   \n",
      "3     4  0.600000  0.642857  1.042857  1.042857    0.8625    0.9750   9.375   \n",
      "4     5  1.787500  0.942857  0.575000  0.562500    0.7375    0.9375  10.500   \n",
      "5     6  0.875000  0.771429  0.525000  0.637500    0.6625    0.8750  11.000   \n",
      "6     7  0.550000  0.537500  0.500000  0.537500    0.6250    0.7125  10.000   \n",
      "7     8  0.600000  0.587500  0.500000  0.537500    0.5125    0.6000   9.750   \n",
      "8     9  0.612500  0.687500  0.525000  0.650000    0.6625    0.7500  11.000   \n",
      "9    10  0.700000  0.687500  0.825000  0.762500    0.7625    0.8000   9.750   \n",
      "10   11  0.625000  0.712500  0.837500  0.712500    0.7500    1.6750   9.000   \n",
      "11   12  0.775000  0.737500  0.750000  0.700000    0.7875    0.8000  10.500   \n",
      "12   13  0.662500  0.725000  0.750000  0.737500    0.7375    0.7250  10.000   \n",
      "13   14  0.687500  0.587500  0.562500  0.850000    0.6375    0.6250   9.250   \n",
      "14   15  0.587500  0.662500  0.725000  0.500000    0.6750    0.6625   9.750   \n",
      "15   16  0.712500  0.687500  0.662500  0.825000    0.8000    0.7625   9.500   \n",
      "16   17  0.600000  0.662500  0.587500  0.737500    0.6625    0.6750   9.000   \n",
      "17   18  0.500000  0.562500  0.562500  0.637500    0.7375    0.8250   8.500   \n",
      "18   19  0.837500  0.762500  0.762500  0.825000    0.9250    1.0000   8.250   \n",
      "19   20  0.737500  0.675000  0.650000  0.750000    0.9125    0.7375   9.750   \n",
      "20   21  0.862500  0.871429  0.800000  0.837500    1.0000    0.9000  12.000   \n",
      "21   22  0.575000  0.575000  0.750000  1.450000    0.9625    0.9500  10.250   \n",
      "22   23  0.825000  0.725000  0.762500  0.862500    1.3500    1.7250  10.250   \n",
      "23   24  1.587500  1.550000  1.612500  1.137500    1.8750    2.1500   9.250   \n",
      "24   25  1.750000  1.412500  1.600000  1.500000    1.5875    1.7875   8.500   \n",
      "25   26  1.825000  1.825000  2.000000  1.825000    1.9000    2.0250   8.875   \n",
      "26   27  1.775000  1.475000  1.950000  1.600000    1.9000    1.7750   9.500   \n",
      "27   28  1.525000  1.312500  1.375000  0.912500    1.1625    1.1000   8.875   \n",
      "28   29  1.600000  1.275000  1.250000  1.375000    1.4625    1.4375   7.250   \n",
      "29   30  1.062500  1.125000  0.925000  0.900000    0.8375    1.0000  10.250   \n",
      "30   31  1.087500  1.171429  1.050000  0.987500    0.8875    1.0125   8.750   \n",
      "31   32  1.025000  1.187500  1.175000  0.937500    1.1250    0.9875   8.250   \n",
      "32   33  0.962500  0.925000  1.000000  0.862500    0.9250    0.9250   8.750   \n",
      "\n",
      "    TK-02D    TK-02E  \n",
      "0   0.8500  0.900000  \n",
      "1   1.5750  0.925000  \n",
      "2   2.2750  1.000000  \n",
      "3   2.3250  0.942857  \n",
      "4   1.9750  0.900000  \n",
      "5   1.7500  0.862500  \n",
      "6   1.8750  0.928571  \n",
      "7   1.7500  1.025000  \n",
      "8   2.2000  1.487500  \n",
      "9   2.2750  1.275000  \n",
      "10  3.1250  1.087500  \n",
      "11  1.8000  0.900000  \n",
      "12  2.2500  0.875000  \n",
      "13  1.8000  1.075000  \n",
      "14  1.9750  1.125000  \n",
      "15  2.0250  1.000000  \n",
      "16  1.9500  0.812500  \n",
      "17  1.7750  0.712500  \n",
      "18  1.5500  0.850000  \n",
      "19  2.0750  1.025000  \n",
      "20  1.5250  0.925000  \n",
      "21  1.3750  0.850000  \n",
      "22  1.0750  0.637500  \n",
      "23  1.3750  0.662500  \n",
      "24  1.2875  0.700000  \n",
      "25  1.2000  0.662500  \n",
      "26  2.0250  0.762500  \n",
      "27  2.2000  0.850000  \n",
      "28  2.0500  0.900000  \n",
      "29  1.1625  0.875000  \n",
      "30  1.2375  0.862500  \n",
      "31  1.4625  1.025000  \n",
      "32  1.0750  0.750000  \n"
     ]
    }
   ],
   "source": [
    "cols = ['F', 'J', 'K', 'O', 'P', 'Q', 'U', 'V']\n",
    "resultados = {'F18': 'AET-7471', 'F19': 'AET-7472', 'F20': 'AET-7473', 'F21': 'AET-7474', 'F23': 'AET-7475', 'F24': 'AET-7476',\n",
    "                'F29': 'TK-02B', 'F30': 'TK-02D', 'F31': 'TK-02E'}\n",
    "\n",
    "df = pd.DataFrame(data={'dia': range(1, len(sheets) + 1)})\n",
    "\n",
    "\n",
    "for col_suffix in range(18, 32):\n",
    "\n",
    "    if col_suffix in [22, 25, 26, 27, 28]:\n",
    "        continue\n",
    "    \n",
    "    promedio_num = []\n",
    "\n",
    "    for sheet in sheets:\n",
    "        data = wb[sheet]\n",
    "        col_names = [f'{col}{col_suffix}' for col in cols]\n",
    "\n",
    "        valores1 = []\n",
    "\n",
    "        for col_name in col_names:\n",
    "            valor = data[col_name].value\n",
    "            #print(valor)\n",
    "            valores1.append(valor)\n",
    "\n",
    "        valores_filtrados = [v for v in valores1 if isinstance(v, (int, float))]\n",
    "\n",
    "        if valores_filtrados:\n",
    "            promedio = np.mean(valores_filtrados)\n",
    "            #print(f'El promedio de los valores es: {promedio}')\n",
    "        else:\n",
    "            print('No hay valores numéricos en la lista.')\n",
    "\n",
    "        promedio_num.append(promedio)\n",
    "\n",
    "    col_resultado = resultados[col_names[0]]\n",
    "    df[col_resultado] = pd.Series(promedio_num)\n",
    "print(df)"
   ]
  },
  {
   "cell_type": "code",
   "execution_count": 34,
   "metadata": {},
   "outputs": [],
   "source": [
    "# Se guarda en .csv file el dataframe consolidado del mes\n",
    "\n",
    "df.to_csv('consolidado_crudo_nov.csv', index=False, encoding='utf-8')"
   ]
  },
  {
   "cell_type": "code",
   "execution_count": 35,
   "metadata": {},
   "outputs": [],
   "source": [
    "### Asignacion fechas para los datasets\n",
    "\n",
    "dir = \"consolidado_crudo_nov.csv\"\n",
    "fecha_inicio = '11/1/2023'\n",
    "df = pd.read_csv(dir)\n"
   ]
  },
  {
   "cell_type": "code",
   "execution_count": 36,
   "metadata": {},
   "outputs": [
    {
     "name": "stdout",
     "output_type": "stream",
     "text": [
      "33\n"
     ]
    }
   ],
   "source": [
    "df = df.drop('dia', axis= 1)\n",
    "print(len(df))"
   ]
  },
  {
   "cell_type": "code",
   "execution_count": 37,
   "metadata": {},
   "outputs": [],
   "source": [
    "df.insert(\n",
    "    loc=0,\n",
    "    column='date',\n",
    "    value=pd.date_range(start=fecha_inicio, periods=len(df), freq='D')\n",
    ")"
   ]
  },
  {
   "cell_type": "code",
   "execution_count": 38,
   "metadata": {},
   "outputs": [
    {
     "data": {
      "text/html": [
       "<div>\n",
       "<style scoped>\n",
       "    .dataframe tbody tr th:only-of-type {\n",
       "        vertical-align: middle;\n",
       "    }\n",
       "\n",
       "    .dataframe tbody tr th {\n",
       "        vertical-align: top;\n",
       "    }\n",
       "\n",
       "    .dataframe thead th {\n",
       "        text-align: right;\n",
       "    }\n",
       "</style>\n",
       "<table border=\"1\" class=\"dataframe\">\n",
       "  <thead>\n",
       "    <tr style=\"text-align: right;\">\n",
       "      <th></th>\n",
       "      <th>AET-7471</th>\n",
       "      <th>AET-7472</th>\n",
       "      <th>AET-7473</th>\n",
       "      <th>AET-7474</th>\n",
       "      <th>AET-7475</th>\n",
       "      <th>AET-7476</th>\n",
       "      <th>TK-02B</th>\n",
       "      <th>TK-02D</th>\n",
       "      <th>TK-02E</th>\n",
       "    </tr>\n",
       "    <tr>\n",
       "      <th>date</th>\n",
       "      <th></th>\n",
       "      <th></th>\n",
       "      <th></th>\n",
       "      <th></th>\n",
       "      <th></th>\n",
       "      <th></th>\n",
       "      <th></th>\n",
       "      <th></th>\n",
       "      <th></th>\n",
       "    </tr>\n",
       "  </thead>\n",
       "  <tbody>\n",
       "    <tr>\n",
       "      <th>2023-11-01</th>\n",
       "      <td>0.837500</td>\n",
       "      <td>0.614286</td>\n",
       "      <td>0.614286</td>\n",
       "      <td>0.662500</td>\n",
       "      <td>0.8500</td>\n",
       "      <td>0.8250</td>\n",
       "      <td>3.825</td>\n",
       "      <td>0.850</td>\n",
       "      <td>0.900000</td>\n",
       "    </tr>\n",
       "    <tr>\n",
       "      <th>2023-11-02</th>\n",
       "      <td>0.587500</td>\n",
       "      <td>0.500000</td>\n",
       "      <td>0.587500</td>\n",
       "      <td>0.750000</td>\n",
       "      <td>0.7125</td>\n",
       "      <td>0.7500</td>\n",
       "      <td>4.650</td>\n",
       "      <td>1.575</td>\n",
       "      <td>0.925000</td>\n",
       "    </tr>\n",
       "    <tr>\n",
       "      <th>2023-11-03</th>\n",
       "      <td>0.642857</td>\n",
       "      <td>0.587500</td>\n",
       "      <td>0.637500</td>\n",
       "      <td>0.675000</td>\n",
       "      <td>0.6625</td>\n",
       "      <td>0.7125</td>\n",
       "      <td>8.000</td>\n",
       "      <td>2.275</td>\n",
       "      <td>1.000000</td>\n",
       "    </tr>\n",
       "    <tr>\n",
       "      <th>2023-11-04</th>\n",
       "      <td>0.600000</td>\n",
       "      <td>0.642857</td>\n",
       "      <td>1.042857</td>\n",
       "      <td>1.042857</td>\n",
       "      <td>0.8625</td>\n",
       "      <td>0.9750</td>\n",
       "      <td>9.375</td>\n",
       "      <td>2.325</td>\n",
       "      <td>0.942857</td>\n",
       "    </tr>\n",
       "    <tr>\n",
       "      <th>2023-11-05</th>\n",
       "      <td>1.787500</td>\n",
       "      <td>0.942857</td>\n",
       "      <td>0.575000</td>\n",
       "      <td>0.562500</td>\n",
       "      <td>0.7375</td>\n",
       "      <td>0.9375</td>\n",
       "      <td>10.500</td>\n",
       "      <td>1.975</td>\n",
       "      <td>0.900000</td>\n",
       "    </tr>\n",
       "  </tbody>\n",
       "</table>\n",
       "</div>"
      ],
      "text/plain": [
       "            AET-7471  AET-7472  AET-7473  AET-7474  AET-7475  AET-7476  \\\n",
       "date                                                                     \n",
       "2023-11-01  0.837500  0.614286  0.614286  0.662500    0.8500    0.8250   \n",
       "2023-11-02  0.587500  0.500000  0.587500  0.750000    0.7125    0.7500   \n",
       "2023-11-03  0.642857  0.587500  0.637500  0.675000    0.6625    0.7125   \n",
       "2023-11-04  0.600000  0.642857  1.042857  1.042857    0.8625    0.9750   \n",
       "2023-11-05  1.787500  0.942857  0.575000  0.562500    0.7375    0.9375   \n",
       "\n",
       "            TK-02B  TK-02D    TK-02E  \n",
       "date                                  \n",
       "2023-11-01   3.825   0.850  0.900000  \n",
       "2023-11-02   4.650   1.575  0.925000  \n",
       "2023-11-03   8.000   2.275  1.000000  \n",
       "2023-11-04   9.375   2.325  0.942857  \n",
       "2023-11-05  10.500   1.975  0.900000  "
      ]
     },
     "execution_count": 38,
     "metadata": {},
     "output_type": "execute_result"
    }
   ],
   "source": [
    "df = df.set_index('date')\n",
    "df.head()"
   ]
  },
  {
   "cell_type": "code",
   "execution_count": 39,
   "metadata": {},
   "outputs": [],
   "source": [
    "# Se guarda en .csv file la data que graficaremos\n",
    "\n",
    "df.to_csv('tks_nov.csv', index=True, encoding='utf-8')"
   ]
  }
 ],
 "metadata": {
  "kernelspec": {
   "display_name": "venv",
   "language": "python",
   "name": "python3"
  },
  "language_info": {
   "codemirror_mode": {
    "name": "ipython",
    "version": 3
   },
   "file_extension": ".py",
   "mimetype": "text/x-python",
   "name": "python",
   "nbconvert_exporter": "python",
   "pygments_lexer": "ipython3",
   "version": "3.9.5"
  }
 },
 "nbformat": 4,
 "nbformat_minor": 2
}
