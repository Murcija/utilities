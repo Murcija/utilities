{
 "cells": [
  {
   "cell_type": "code",
   "execution_count": 56,
   "metadata": {},
   "outputs": [],
   "source": [
    "import itertools\n",
    "from itertools import chain\n",
    "\n",
    "\n",
    "import openpyxl\n",
    "import pandas as pd\n",
    "import numpy as np"
   ]
  },
  {
   "cell_type": "code",
   "execution_count": 57,
   "metadata": {},
   "outputs": [],
   "source": [
    "wb_agua = openpyxl.load_workbook(filename = '/Users/josealbertomurcia/Documents/Reportes Lab/12. AGUAS DE TRATAMIENTO ECH  DICIEMBRE2023 (con consolidado).xlsx', data_only=True)\n",
    "\n",
    "#sheets = wb_agua.sheetnames"
   ]
  },
  {
   "cell_type": "code",
   "execution_count": 58,
   "metadata": {},
   "outputs": [],
   "source": [
    "# Confirmar nombre de la vineta del consolidado\n",
    "\n",
    "sheet = wb_agua['COSOLIDADO']"
   ]
  },
  {
   "cell_type": "code",
   "execution_count": 59,
   "metadata": {},
   "outputs": [],
   "source": [
    "cols_OW = ['U', 'V', 'W', 'X', 'Y', 'Z', 'AA', 'AB']\n",
    "cols_SST = ['AD', 'AE', 'AF', 'AG', 'AH', 'AI', 'AJ', 'AK']"
   ]
  },
  {
   "cell_type": "code",
   "execution_count": 60,
   "metadata": {},
   "outputs": [
    {
     "name": "stdout",
     "output_type": "stream",
     "text": [
      "414\n"
     ]
    }
   ],
   "source": [
    "for celda in range(6, 1000):\n",
    "    #print(sheet[f'{\"A\"}{celda}'].value)\n",
    "\n",
    "    if sheet[f'{\"A\"}{celda}'].value == None:\n",
    "        break\n",
    "print(celda)\n"
   ]
  },
  {
   "cell_type": "code",
   "execution_count": 61,
   "metadata": {},
   "outputs": [],
   "source": [
    "fila_inicial = celda - 1\n",
    "fila_final = 40\n",
    "\n",
    "fecha_inicio = sheet[f'{\"A\"}{celda - 1}'].value ### Mes/dia/a;O"
   ]
  },
  {
   "cell_type": "code",
   "execution_count": 76,
   "metadata": {},
   "outputs": [],
   "source": [
    "df = pd.DataFrame(data={'dia': range(1, (int((fila_inicial - fila_final)/34 + 2)))})"
   ]
  },
  {
   "cell_type": "code",
   "execution_count": 78,
   "metadata": {},
   "outputs": [
    {
     "name": "stdout",
     "output_type": "stream",
     "text": [
      "    dia  resultado\n",
      "0     1   48.26500\n",
      "1     2   72.48500\n",
      "2     3   50.11125\n",
      "3     4   68.79250\n",
      "4     5   65.35625\n",
      "5     6   50.06375\n",
      "6     7   60.10125\n",
      "7     8   49.07375\n",
      "8     9   78.05750\n",
      "9    10  114.18625\n",
      "10   11   76.48250\n"
     ]
    }
   ],
   "source": [
    "promedio_num = []\n",
    "\n",
    "for fila in range(fila_inicial - 1, fila_final, -34):\n",
    "    \n",
    "    #promedio_num = []\n",
    "\n",
    "    col_names = [f'{col}{fila}' for col in cols_OW]\n",
    "\n",
    "    valores1 = []\n",
    "\n",
    "    for col_name in col_names:\n",
    "        valor = sheet[col_name].value\n",
    "        valores1.append(valor)\n",
    "        \n",
    "\n",
    "    valores_filtrados = [v for v in valores1 if isinstance(v, (int, float))]\n",
    "\n",
    "    if valores_filtrados:\n",
    "        promedio = np.mean(valores_filtrados)\n",
    "        #print(f'El promedio de los valores es: {promedio}')\n",
    "    else:\n",
    "        print('No hay valores numéricos en la lista.')\n",
    "\n",
    "    promedio_num.append(promedio)\n",
    "df['resultado'] = pd.Series(promedio_num)\n",
    "print(df)"
   ]
  },
  {
   "cell_type": "code",
   "execution_count": null,
   "metadata": {},
   "outputs": [],
   "source": []
  }
 ],
 "metadata": {
  "kernelspec": {
   "display_name": "venv",
   "language": "python",
   "name": "python3"
  },
  "language_info": {
   "codemirror_mode": {
    "name": "ipython",
    "version": 3
   },
   "file_extension": ".py",
   "mimetype": "text/x-python",
   "name": "python",
   "nbconvert_exporter": "python",
   "pygments_lexer": "ipython3",
   "version": "3.9.5"
  }
 },
 "nbformat": 4,
 "nbformat_minor": 2
}
